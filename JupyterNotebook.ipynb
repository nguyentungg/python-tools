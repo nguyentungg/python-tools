{
 "cells": [
  {
   "cell_type": "code",
   "execution_count": 1,
   "metadata": {},
   "outputs": [
    {
     "ename": "ModuleNotFoundError",
     "evalue": "No module named 'moviepy'",
     "output_type": "error",
     "traceback": [
      "\u001b[1;31m---------------------------------------------------------------------------\u001b[0m",
      "\u001b[1;31mModuleNotFoundError\u001b[0m                       Traceback (most recent call last)",
      "Cell \u001b[1;32mIn [1], line 5\u001b[0m\n\u001b[0;32m      3\u001b[0m \u001b[39mfrom\u001b[39;00m \u001b[39mtkinter\u001b[39;00m \u001b[39mimport\u001b[39;00m Tk, filedialog\n\u001b[0;32m      4\u001b[0m \u001b[39mimport\u001b[39;00m \u001b[39mos\u001b[39;00m\n\u001b[1;32m----> 5\u001b[0m \u001b[39mfrom\u001b[39;00m \u001b[39mmoviepy\u001b[39;00m\u001b[39m.\u001b[39;00m\u001b[39meditor\u001b[39;00m \u001b[39mimport\u001b[39;00m VideoFileClip\n\u001b[0;32m      8\u001b[0m \u001b[39m# Read the file duration\u001b[39;00m\n\u001b[0;32m      9\u001b[0m \u001b[39mdef\u001b[39;00m \u001b[39mget_video_length\u001b[39m(file):\n",
      "\u001b[1;31mModuleNotFoundError\u001b[0m: No module named 'moviepy'"
     ]
    }
   ],
   "source": [
    "import fnmatch\n",
    "import glob\n",
    "from tkinter import Tk, filedialog\n",
    "import os\n",
    "from moviepy.editor import VideoFileClip\n",
    "\n",
    "\n",
    "# Read the file duration\n",
    "def get_video_length(file):\n",
    "    clip = VideoFileClip(file)\n",
    "    duration = 0\n",
    "    if file is not None:\n",
    "        duration = round(clip.duration / 60, 2)\n",
    "    return duration\n",
    "\n",
    "\n",
    "# Find from a folder by select dialog\n",
    "def select_folder():\n",
    "    root = Tk()\n",
    "    root.withdraw()\n",
    "    root.attributes('-topmost', True)\n",
    "    directory = filedialog.askdirectory()\n",
    "    all_time = 0\n",
    "    for filename in fnmatch.filter(os.listdir(directory), \"*.mp4\"):\n",
    "        video = os.path.join(directory, filename)\n",
    "        time = get_video_length(video)\n",
    "        print(f'{video} => {time} minutes')\n",
    "        all_time += time\n",
    "\n",
    "    print(f'Total time: {round(all_time, 2)}')\n",
    "    print(f'Total day(24): {round(all_time/24, 2)}')\n",
    "\n",
    "# Find from sub folder by select in dialog\n",
    "def select_sub_folder():\n",
    "    root = Tk()\n",
    "    root.withdraw()\n",
    "    root.attributes('-topmost', True)\n",
    "    directory = filedialog.askdirectory()\n",
    "    all_time = 0\n",
    "    course = os.listdir(directory)\n",
    "    for dir_name in course:\n",
    "        section = os.path.join(directory, dir_name)\n",
    "        if os.path.isfile(section):\n",
    "            print(f'[WARNING] This file is a file: {section}')\n",
    "            continue\n",
    "        for filename in fnmatch.filter(os.listdir(section), \"*.mp4\"):\n",
    "            video = os.path.join(section, filename)\n",
    "            time = get_video_length(video)\n",
    "            print(f'{video} => {time} minutes')\n",
    "            all_time += time\n",
    "\n",
    "    print(f'Total time: {round(all_time, 2)}')\n",
    "    print(f'Total day(24): {round(all_time/24, 2)}')\n",
    "\n",
    "\n",
    "select_sub_folder()\n",
    "# select_folder()\n"
   ]
  }
 ],
 "metadata": {
  "kernelspec": {
   "display_name": "Python 3.10.0 64-bit",
   "language": "python",
   "name": "python3"
  },
  "language_info": {
   "codemirror_mode": {
    "name": "ipython",
    "version": 3
   },
   "file_extension": ".py",
   "mimetype": "text/x-python",
   "name": "python",
   "nbconvert_exporter": "python",
   "pygments_lexer": "ipython3",
   "version": "3.10.0"
  },
  "orig_nbformat": 4,
  "vscode": {
   "interpreter": {
    "hash": "369f2c481f4da34e4445cda3fffd2e751bd1c4d706f27375911949ba6bb62e1c"
   }
  }
 },
 "nbformat": 4,
 "nbformat_minor": 2
}
